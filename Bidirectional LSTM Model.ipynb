{
 "cells": [
  {
   "cell_type": "code",
   "execution_count": null,
   "metadata": {},
   "outputs": [],
   "source": [
    "# Standard Libraries\n",
    "import pandas as pd\n",
    "import numpy as np\n",
    "import tensorflow as tf\n",
    "from sklearn.model_selection import train_test_split\n",
    "from sklearn.preprocessing import StandardScaler, OneHotEncoder, LabelEncoder, label_binarize\n",
    "from sklearn.compose import ColumnTransformer\n",
    "from sklearn.pipeline import Pipeline\n",
    "from sklearn.model_selection import KFold\n",
    "import matplotlib.pyplot as plt\n",
    "import seaborn as sns\n",
    "from sklearn.metrics import confusion_matrix, ConfusionMatrixDisplay, roc_curve, auc, precision_recall_curve, average_precision_score, classification_report\n",
    "\n",
    "# TensorFlow/Keras Models and Layers\n",
    "from tensorflow.keras.models import Sequential, load_model\n",
    "from tensorflow.keras.layers import LSTM, GRU, Dense, Conv1D, MaxPooling1D, Flatten, Bidirectional\n",
    "from tensorflow.keras.callbacks import EarlyStopping\n",
    "from tensorflow.keras.metrics import Precision, Recall, AUC\n",
    "from tensorflow.python.client import device_lib\n",
    "\n",
    "# Transformer Libraries\n",
    "from transformers import TFAutoModel, AutoTokenizer\n"
   ]
  },
  {
   "cell_type": "code",
   "execution_count": 2,
   "metadata": {},
   "outputs": [
    {
     "name": "stdout",
     "output_type": "stream",
     "text": [
      "[name: \"/device:CPU:0\"\n",
      "device_type: \"CPU\"\n",
      "memory_limit: 268435456\n",
      "locality {\n",
      "}\n",
      "incarnation: 12939630821492890327\n",
      "xla_global_id: -1\n",
      "]\n"
     ]
    }
   ],
   "source": [
    "print(device_lib.list_local_devices())"
   ]
  },
  {
   "cell_type": "code",
   "execution_count": 3,
   "metadata": {},
   "outputs": [],
   "source": [
    "file_path = r\"C:\\\\Users\\\\Amirreza\\\\Downloads\\\\Documents\\\\Project\\\\LSTM Model\\\\Data\\\\all_data.csv\"\n",
    "df = pd.read_csv(file_path)"
   ]
  },
  {
   "cell_type": "code",
   "execution_count": 4,
   "metadata": {},
   "outputs": [],
   "source": [
    "def preprocess_data(df, sequence_length):\n",
    "    # drop unwanted column\n",
    "    # df = df.drop(columns=['P-JUS-CKGL', 'T-JUS-CKGL', 'QGL'])\n",
    "\n",
    "    # convert timestamp to datetime and extract features\n",
    "    df['timestamp'] = pd.to_datetime(df['timestamp'], format='%Y-%m-%d %H:%M:%S.%f')\n",
    "    df['hour'] = df['timestamp'].dt.hour\n",
    "    df['minute'] = df['timestamp'].dt.minute\n",
    "    df['second'] = df['timestamp'].dt.second\n",
    "    df['seconds_since_midnight'] = df['hour'] * 3600 + df['minute'] * 60 + df['second']\n",
    "    df = df.drop(columns=['timestamp', 'hour', 'minute', 'second'])\n",
    "\n",
    "    #separate features and target\n",
    "    X = df.drop(columns=['class'])\n",
    "    y = df['class']\n",
    "\n",
    "    # preprocessing pipeline for numeric features\n",
    "    numeric_features = X.select_dtypes(include=['int64', 'float64']).columns\n",
    "    numeric_transformer = StandardScaler()\n",
    "\n",
    "    # Preprocessing pipeline for categorical features\n",
    "    categorical_features = X.select_dtypes(include=['object', 'category']).columns\n",
    "    categorical_transformer = OneHotEncoder(handle_unknown='ignore')\n",
    "\n",
    "    preprocessor = ColumnTransformer(\n",
    "        transformers=[\n",
    "            ('num', numeric_transformer, numeric_features),\n",
    "            ('car', categorical_transformer, categorical_features)\n",
    "        ]\n",
    "    )\n",
    "\n",
    "    # apply transformation \n",
    "    X_processed = preprocessor.fit_transform(X)\n",
    "\n",
    "    # encode class labels\n",
    "    label_encoder = LabelEncoder()\n",
    "    y_encoded = label_encoder.fit_transform(y)\n",
    "\n",
    "    # Initialize lists for sequences\n",
    "    X_sequences = []\n",
    "    y_sequences = []\n",
    "\n",
    "\n",
    "    # Create sequences\n",
    "    for i in range(len(X_processed) - sequence_length):\n",
    "        X_sequences.append(X_processed[i:i + sequence_length])\n",
    "        y_sequences.append(y_encoded[i + sequence_length])\n",
    "\n",
    "    # create sequences\n",
    "    X_sequences = np.array(X_sequences)\n",
    "    y_sequences = np.array(y_sequences)\n",
    "\n",
    "    return X_sequences, y_sequences"
   ]
  },
  {
   "cell_type": "code",
   "execution_count": 1,
   "metadata": {},
   "outputs": [],
   "source": [
    "def create_bidirectional_lstm_model(input_shape):\n",
    "    model = Sequential()\n",
    "    model.add(tf.keras.layers.Bidirectional(tf.keras.layers.LSTM(75, return_sequences=True), input_shape=input_shape))\n",
    "    model.add(tf.keras.layers.Bidirectional(tf.keras.layers.LSTM(75)))\n",
    "    model.add(Dense(15, activation='softmax'))  # 15 units for 15 classes\n",
    "    model.compile(optimizer='adam',\n",
    "                  loss='sparse_categorical_crossentropy',\n",
    "                  metrics=['accuracy', Precision(name='precision'), Recall(name='recall'), AUC(name='auc')])\n",
    "    return model"
   ]
  },
  {
   "cell_type": "code",
   "execution_count": 6,
   "metadata": {},
   "outputs": [
    {
     "name": "stdout",
     "output_type": "stream",
     "text": [
      "Num GPUs Available: 0\n",
      "INFO:tensorflow:Using MirroredStrategy with devices ('/job:localhost/replica:0/task:0/device:CPU:0',)\n",
      "WARNING:tensorflow:From c:\\Users\\Amirreza\\AppData\\Local\\Programs\\Python\\Python311\\Lib\\site-packages\\keras\\src\\backend.py:873: The name tf.get_default_graph is deprecated. Please use tf.compat.v1.get_default_graph instead.\n",
      "\n",
      "WARNING:tensorflow:From c:\\Users\\Amirreza\\AppData\\Local\\Programs\\Python\\Python311\\Lib\\site-packages\\keras\\src\\optimizers\\__init__.py:309: The name tf.train.Optimizer is deprecated. Please use tf.compat.v1.train.Optimizer instead.\n",
      "\n",
      "Epoch 1/10\n",
      "WARNING:tensorflow:From c:\\Users\\Amirreza\\AppData\\Local\\Programs\\Python\\Python311\\Lib\\site-packages\\keras\\src\\utils\\tf_utils.py:492: The name tf.ragged.RaggedTensorValue is deprecated. Please use tf.compat.v1.ragged.RaggedTensorValue instead.\n",
      "\n",
      "WARNING:tensorflow:From c:\\Users\\Amirreza\\AppData\\Local\\Programs\\Python\\Python311\\Lib\\site-packages\\keras\\src\\engine\\base_layer_utils.py:384: The name tf.executing_eagerly_outside_functions is deprecated. Please use tf.compat.v1.executing_eagerly_outside_functions instead.\n",
      "\n",
      "20542/20542 [==============================] - 870s 42ms/step - loss: 0.2281 - accuracy: 0.9222 - val_loss: 0.1490 - val_accuracy: 0.9411\n",
      "Epoch 2/10\n",
      "20542/20542 [==============================] - 848s 41ms/step - loss: 0.1290 - accuracy: 0.9500 - val_loss: 0.1112 - val_accuracy: 0.9561\n",
      "Epoch 3/10\n",
      "20542/20542 [==============================] - 836s 41ms/step - loss: 0.1120 - accuracy: 0.9561 - val_loss: 0.1030 - val_accuracy: 0.9568\n",
      "Epoch 4/10\n",
      "20542/20542 [==============================] - 837s 41ms/step - loss: 0.1020 - accuracy: 0.9598 - val_loss: 0.0980 - val_accuracy: 0.9556\n",
      "Epoch 5/10\n",
      "20542/20542 [==============================] - 835s 41ms/step - loss: 0.0976 - accuracy: 0.9618 - val_loss: 0.0902 - val_accuracy: 0.9651\n",
      "Epoch 6/10\n",
      "20542/20542 [==============================] - 837s 41ms/step - loss: 0.0936 - accuracy: 0.9633 - val_loss: 0.0844 - val_accuracy: 0.9678\n",
      "Epoch 7/10\n",
      "20542/20542 [==============================] - 838s 41ms/step - loss: 0.0871 - accuracy: 0.9652 - val_loss: 0.0756 - val_accuracy: 0.9690\n",
      "Epoch 8/10\n",
      "20542/20542 [==============================] - 837s 41ms/step - loss: 0.0825 - accuracy: 0.9672 - val_loss: 0.0827 - val_accuracy: 0.9641\n",
      "Epoch 9/10\n",
      "20542/20542 [==============================] - 838s 41ms/step - loss: 0.0782 - accuracy: 0.9684 - val_loss: 0.0720 - val_accuracy: 0.9708\n",
      "Epoch 10/10\n",
      "20542/20542 [==============================] - 839s 41ms/step - loss: 0.0723 - accuracy: 0.9708 - val_loss: 0.0643 - val_accuracy: 0.9730\n",
      "1142/1142 [==============================] - 19s 17ms/step - loss: 0.0636 - accuracy: 0.9751\n"
     ]
    }
   ],
   "source": [
    "# Lists to store results\n",
    "acc_scores = []\n",
    "val_acc_scores = []\n",
    "test_accuracy = []\n",
    "\n",
    "# Define sequence length\n",
    "sequence_length = 60   # 1 hours\n",
    "\n",
    "# preprocess the data\n",
    "X, y = preprocess_data(df, sequence_length)\n",
    "\n",
    "# Split data into train, validation, and test sets\n",
    "X_train_val, X_test, y_train_val, y_test = train_test_split(X, y, test_size=0.05, random_state=42)\n",
    "\n",
    "X_train, X_val, y_train, y_val = train_test_split(X_train_val, y_train_val, test_size=0.05/(1-0.05), random_state=42)\n",
    "\n",
    "# Check and print available devices\n",
    "print(\"Num GPUs Available:\", len(tf.config.experimental.list_physical_devices('GPU')))\n",
    "\n",
    "# Create a MirroredStrategy.\n",
    "strategy = tf.distribute.MirroredStrategy()\n",
    "\n",
    "# Open a strategy scope.\n",
    "with strategy.scope():\n",
    "    # Create the model inside the strategy's scope.\n",
    "    model = create_bidirectional_lstm_model(input_shape=(sequence_length, X_train.shape[2]))\n",
    "\n",
    "    # Define the early stopping callback\n",
    "    early_stopping = EarlyStopping(monitor='val_loss', patience=5, restore_best_weights=True)\n",
    "\n",
    "    # Train the model\n",
    "    history = model.fit(X_train, y_train, epochs=10, batch_size=32, validation_data=(X_val, y_val), callbacks=[early_stopping])\n",
    "\n",
    "    # Evaluate on the test set\n",
    "    test_loss, test_accuracy = model.evaluate(X_test, y_test)\n"
   ]
  },
  {
   "cell_type": "code",
   "execution_count": 7,
   "metadata": {},
   "outputs": [
    {
     "name": "stdout",
     "output_type": "stream",
     "text": [
      "Test Accuracy: 0.9751362204551697\n"
     ]
    }
   ],
   "source": [
    "# Print the results\n",
    "print(\"Test Accuracy:\", test_accuracy)"
   ]
  },
  {
   "cell_type": "code",
   "execution_count": 8,
   "metadata": {},
   "outputs": [
    {
     "name": "stderr",
     "output_type": "stream",
     "text": [
      "c:\\Users\\Amirreza\\AppData\\Local\\Programs\\Python\\Python311\\Lib\\site-packages\\keras\\src\\engine\\training.py:3103: UserWarning: You are saving your model as an HDF5 file via `model.save()`. This file format is considered legacy. We recommend using instead the native Keras format, e.g. `model.save('my_model.keras')`.\n",
      "  saving_api.save_model(\n"
     ]
    }
   ],
   "source": [
    "model.save(\"Bidirectional_LSTM_final_model.h5\")"
   ]
  },
  {
   "cell_type": "code",
   "execution_count": 9,
   "metadata": {},
   "outputs": [],
   "source": [
    "\n",
    "model1 = load_model(\"Bidirectional_LSTM_final_model.h5\")"
   ]
  },
  {
   "cell_type": "code",
   "execution_count": null,
   "metadata": {},
   "outputs": [],
   "source": [
    "# styling for plots\n",
    "sns.set(style=\"whitegrid\")\n",
    "plt.style.use('ggplot')"
   ]
  },
  {
   "cell_type": "code",
   "execution_count": null,
   "metadata": {},
   "outputs": [],
   "source": [
    "# Confusion Matrix\n",
    "def plot_confusion_matrix(y_test , y_pred, classes):\n",
    "    cm = confusion_matrix(y_test, y_pred)\n",
    "    plt.figure(figsize=(10, 7))\n",
    "    sns.heatmap(cm, annot=True, fmt='d', cmap='blues', xticklabels=classes, yticklabels=classes)\n",
    "    plt.title(f'Bidirectional LSTM_confusion_matrix')\n",
    "    plt.ylabel('True label')\n",
    "    plt.xlabel('predicted label')\n",
    "    plt.savefig(f'Bidirectional_LSTM_confusion_matrix.png')\n",
    "    plt.show()"
   ]
  },
  {
   "cell_type": "code",
   "execution_count": null,
   "metadata": {},
   "outputs": [],
   "source": [
    "# ROC Curve and AUC\n",
    "def plot_roc_curve(y_test, y_score, n_classes):\n",
    "    fpr = dict()\n",
    "    tpr = dict()\n",
    "    roc_auc = dict()\n",
    "    \n",
    "    for i in range (n_classes):\n",
    "        fpr[i], tpr[i], _ = roc_curve(y_test[:,i], y_score[:,i])\n",
    "        roc_auc[i] = auc(fpr[i], tpr[i])\n",
    "        \n",
    "    plt.figure(figsize=(10,7))\n",
    "    for i in range(n_classes):\n",
    "        plt.plot(fpr[i], tpr[i], lw=2, label='class{0} (area = {1:0.2f})'.format(i, roc_auc))\n",
    "        \n",
    "    plt.plot([0,1], [0,1], 'k--', lw=2)\n",
    "    plt.xlim([0.0, 1.0])\n",
    "    plt.ylim([0.0, 1.05])\n",
    "    plt.xlabel('False Positive Rate')\n",
    "    plt.ylabel('True Positive Rate')\n",
    "    plt.title(f'Bidirectional LSTM - Receivor Operating Characteristic (ROC)')\n",
    "    plt.legend(loc=\"lower right\")\n",
    "    plt.savefig(f'Bidirectional_LSTM_roc_curve.png')\n",
    "    plt.show()"
   ]
  },
  {
   "cell_type": "code",
   "execution_count": null,
   "metadata": {},
   "outputs": [],
   "source": [
    "# Precision-Recall Curve\n",
    "def plot_precision_recall_curve(y_test, y_score, n_classes):\n",
    "    precision = dict()\n",
    "    recall = dict()\n",
    "    average_precision = dict()\n",
    "    \n",
    "    for i in range (n_classes):\n",
    "        precision[i], recall[i], _ = precision_recall_curve(y_test[:,i], y_score[:,i])\n",
    "        average_precision[i] = average_precision_score(y_test[:,i], y_score[:,i])\n",
    "        \n",
    "    plt.figure(figsize=(10,7))\n",
    "    for i in range (n_classes):\n",
    "        plt.plot(recall[i], precision[i], lw=2, label='Class[0] (area = {1:0.2f})'.format(i, average_precision[i]))\n",
    "        \n",
    "    plt.xlabel('Recall')\n",
    "    plt.ylabel('Precision')\n",
    "    plt.title(f'Bidirectional LSTM - precision-recall curve')\n",
    "    plt.legend(loc=\"best\")\n",
    "    plt.savefig(f'Bidirectional_LSTM_precision_recall_curve.png')\n",
    "    plt.show()\n",
    "        "
   ]
  },
  {
   "cell_type": "code",
   "execution_count": 2,
   "metadata": {},
   "outputs": [],
   "source": [
    "# Training and Validation plots\n",
    "def plot_training_history(history):\n",
    "    acc = history.history['accuracy']\n",
    "    val_acc = history.history['val_accuracy']\n",
    "    loss = history.history['loss']\n",
    "    val_loss = history.history['val_loss']\n",
    "\n",
    "    epochs = range(1, len(acc) + 1)\n",
    "    \n",
    "    # accuracy plot \n",
    "    plt.figure(figsize=(7,5))\n",
    "    plt.plot(epochs, acc, 'bo-', label='Training accuracy')\n",
    "    plt.plot(epochs, val_acc, 'r*-', label='Validation accuracy')\n",
    "    plt.title('Bidirectional LSTM - Training and validation accuracy')\n",
    "    plt.xlabel('Epochs')\n",
    "    plt.ylabel('Accuracy')\n",
    "    plt.legend()\n",
    "    plt.savefig(f'Bidirectional_LSTM_training_accuracy')\n",
    "    \n",
    "    \n",
    "    # Loss plot \n",
    "    plt.figure(figsize=(7,5))\n",
    "    plt.plot(epochs, loss, 'bo-', label='Training loss')\n",
    "    plt.plot(epochs, val_loss, 'r*-', label='Validation loss')\n",
    "    plt.title('Bidirectional LSTM - Training and validation Loss')\n",
    "    plt.xlabel('Epochs')\n",
    "    plt.ylabel('Loss')\n",
    "    plt.legend()\n",
    "    plt.savefig(f'Bidirectional_LSTM_training_loss')\n",
    "    plt.show()\n",
    "\n"
   ]
  },
  {
   "cell_type": "code",
   "execution_count": null,
   "metadata": {},
   "outputs": [],
   "source": [
    "# Generate classification report\n",
    "def save_classification_report(y_test, y_pred, classes):\n",
    "    report = classification_report(y_test, y_pred, target_names=classes)\n",
    "    print(report)\n",
    "    with open(f\"Bidirectional_LSTM_classification_report.txt\", \"w\") as f:\n",
    "        f.write(report)"
   ]
  },
  {
   "cell_type": "code",
   "execution_count": null,
   "metadata": {},
   "outputs": [],
   "source": [
    "classes = [str(i) for i in range(15)] \n",
    "\n",
    "# Predict on test data\n",
    "y_pred = np.argmax(model1.predict(X_test), axis=-1)\n",
    "y_score = model1.predict(X_test)\n",
    "\n",
    "# Binarize the output for multiclass metrics\n",
    "y_test_bin = label_binarize(y_test, classes=range(len(classes)))\n",
    "\n",
    "# Plot and save all the metrics\n",
    "plot_training_history(history)\n",
    "plot_confusion_matrix(y_test, y_pred, classes)\n",
    "plot_roc_curve(y_test_bin, y_score, len(classes))\n",
    "plot_precision_recall_curve(y_test_bin, y_score, len(classes))\n",
    "save_classification_report(y_test, y_pred, classes)"
   ]
  }
 ],
 "metadata": {
  "kernelspec": {
   "display_name": "Python 3",
   "language": "python",
   "name": "python3"
  },
  "language_info": {
   "codemirror_mode": {
    "name": "ipython",
    "version": 3
   },
   "file_extension": ".py",
   "mimetype": "text/x-python",
   "name": "python",
   "nbconvert_exporter": "python",
   "pygments_lexer": "ipython3",
   "version": "3.11.3"
  }
 },
 "nbformat": 4,
 "nbformat_minor": 2
}
